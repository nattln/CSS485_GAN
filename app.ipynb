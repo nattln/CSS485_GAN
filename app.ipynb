{
 "cells": [
  {
   "cell_type": "code",
   "execution_count": 1,
   "metadata": {},
   "outputs": [
    {
     "name": "stderr",
     "output_type": "stream",
     "text": [
      "c:\\Users\\user\\anaconda3\\envs\\dog-breeds-classification\\lib\\site-packages\\tqdm\\auto.py:22: TqdmWarning: IProgress not found. Please update jupyter and ipywidgets. See https://ipywidgets.readthedocs.io/en/stable/user_install.html\n",
      "  from .autonotebook import tqdm as notebook_tqdm\n"
     ]
    }
   ],
   "source": [
    "import os\n",
    "import torch\n",
    "from PIL import Image\n",
    "import pandas as pd\n",
    "import sys\n",
    "\n",
    "sys.path.append('../src')  # insert the path to src here\n"
   ]
  },
  {
   "cell_type": "code",
   "execution_count": null,
   "metadata": {},
   "outputs": [],
   "source": [
    "!git clone \"https://github.com/amazon-science/gan-control\""
   ]
  },
  {
   "cell_type": "code",
   "execution_count": 3,
   "metadata": {},
   "outputs": [
    {
     "name": "stderr",
     "output_type": "stream",
     "text": [
      "INFO:gan_control.inference.controller: Init Controller class...\n",
      "INFO:gan_control.inference.inference: Init inference class...\n",
      "INFO:gan_control.inference.inference: Retrieve config from ../resources/gan_models/controller_age015id025exp02hai04ori02gam15\\generator\\args.json\n"
     ]
    },
    {
     "name": "stdout",
     "output_type": "stream",
     "text": [
      "[WinError 3] The system cannot find the path specified: '/gan-control/src'\n",
      "c:\\Users\\user\\Desktop\\Work\\4th Year 1st Half\\Deep Learning\\CSS485_GAN\\gan-control\\notebooks\n"
     ]
    },
    {
     "name": "stderr",
     "output_type": "stream",
     "text": [
      "INFO:gan_control.inference.inference: Init Batch Utils...\n",
      "INFO:gan_control.utils.mini_batch_multi_split_utils: MiniBatchUtils parameters:\n",
      "mini batch size 16\n",
      "total batch size 16\n",
      "sub group names ['id', 'expression', 'orientation', 'gamma', 'age', 'hair', 'other']\n",
      "0) id: place in mini batch: [0, 4] place in latent: [0, 128]\n",
      "1) expression: place in mini batch: [4, 6] place in latent: [128, 192]\n",
      "2) orientation: place in mini batch: [6, 8] place in latent: [192, 256]\n",
      "3) gamma: place in mini batch: [8, 10] place in latent: [256, 320]\n",
      "4) age: place in mini batch: [10, 12] place in latent: [320, 384]\n",
      "5) hair: place in mini batch: [12, 14] place in latent: [384, 448]\n",
      "6) other: place in mini batch: [14, 16] place in latent: [448, 512]\n",
      "\n",
      "INFO:gan_control.inference.inference: Init Model...\n",
      "INFO:gan_control.models.gan_model: using split style FC stack\n",
      "INFO:gan_control.models.gan_model: Adding id to fc stacks, latent size 128, latent place [0:128]\n",
      "INFO:gan_control.models.gan_model: Adding expression to fc stacks, latent size 064, latent place [128:192]\n",
      "INFO:gan_control.models.gan_model: Adding orientation to fc stacks, latent size 064, latent place [192:256]\n",
      "INFO:gan_control.models.gan_model: Adding gamma to fc stacks, latent size 064, latent place [256:320]\n",
      "INFO:gan_control.models.gan_model: Adding age to fc stacks, latent size 064, latent place [320:384]\n",
      "INFO:gan_control.models.gan_model: Adding hair to fc stacks, latent size 064, latent place [384:448]\n",
      "INFO:gan_control.models.gan_model: Adding other to fc stacks, latent size 064, latent place [448:512]\n",
      "INFO:gan_control.inference.inference: Loading Model: ../resources/gan_models/controller_age015id025exp02hai04ori02gam15\\generator, ckpt iter best_fid\n",
      "INFO:gan_control.inference.controller: No id controller\n",
      "INFO:gan_control.inference.controller: Retrieve controller config from ../resources/gan_models/controller_age015id025exp02hai04ori02gam15\\expression_loss_20201104-093349\\args.json\n",
      "INFO:gan_control.inference.controller: Init expression Controller...\n",
      "INFO:gan_control.models.controller_model: FcStack:\n",
      "input dim: 64, middle dim:512, output dim: 64\n",
      "num of layers: 4\n",
      "lr_mlp: 0\n",
      "INFO:gan_control.inference.controller: Loading Controller: ../resources/gan_models/controller_age015id025exp02hai04ori02gam15\\expression_loss_20201104-093349, ckpt iter 800000\n",
      "INFO:gan_control.inference.controller: Retrieve controller config from ../resources/gan_models/controller_age015id025exp02hai04ori02gam15\\orientation_loss_20201013-094838\\args.json\n",
      "INFO:gan_control.inference.controller: Init orientation Controller...\n",
      "INFO:gan_control.models.controller_model: FcStack:\n",
      "input dim: 3, middle dim:512, output dim: 64\n",
      "num of layers: 4\n",
      "lr_mlp: 0\n",
      "INFO:gan_control.inference.controller: Loading Controller: ../resources/gan_models/controller_age015id025exp02hai04ori02gam15\\orientation_loss_20201013-094838, ckpt iter 800000\n",
      "INFO:gan_control.inference.controller: Retrieve controller config from ../resources/gan_models/controller_age015id025exp02hai04ori02gam15\\gamma_loss_20201104-093551\\args.json\n",
      "INFO:gan_control.inference.controller: Init gamma Controller...\n",
      "INFO:gan_control.models.controller_model: FcStack:\n",
      "input dim: 27, middle dim:512, output dim: 64\n",
      "num of layers: 4\n",
      "lr_mlp: 0\n",
      "INFO:gan_control.inference.controller: Loading Controller: ../resources/gan_models/controller_age015id025exp02hai04ori02gam15\\gamma_loss_20201104-093551, ckpt iter 800000\n",
      "INFO:gan_control.inference.controller: Retrieve controller config from ../resources/gan_models/controller_age015id025exp02hai04ori02gam15\\age_loss_20201013-061438\\args.json\n",
      "INFO:gan_control.inference.controller: Init age Controller...\n",
      "INFO:gan_control.models.controller_model: FcStack:\n",
      "input dim: 1, middle dim:512, output dim: 64\n",
      "num of layers: 4\n",
      "lr_mlp: 0\n",
      "INFO:gan_control.inference.controller: Loading Controller: ../resources/gan_models/controller_age015id025exp02hai04ori02gam15\\age_loss_20201013-061438, ckpt iter 800000\n",
      "INFO:gan_control.inference.controller: Retrieve controller config from ../resources/gan_models/controller_age015id025exp02hai04ori02gam15\\hair_loss_20201116-092804\\args.json\n",
      "INFO:gan_control.inference.controller: Init hair Controller...\n",
      "INFO:gan_control.models.controller_model: FcStack:\n",
      "input dim: 3, middle dim:512, output dim: 64\n",
      "num of layers: 4\n",
      "lr_mlp: 0\n",
      "INFO:gan_control.inference.controller: Loading Controller: ../resources/gan_models/controller_age015id025exp02hai04ori02gam15\\hair_loss_20201116-092804, ckpt iter 200000\n",
      "INFO:gan_control.inference.controller: No other controller\n",
      "INFO:gan_control.inference.controller: Retrieve controller config from ../resources/gan_models/controller_age015id025exp02hai04ori02gam15\\expression_q_loss_20201013-151038\\args.json\n",
      "INFO:gan_control.inference.controller: Init expression_q Controller...\n",
      "INFO:gan_control.models.controller_model: FcStack:\n",
      "input dim: 8, middle dim:512, output dim: 64\n",
      "num of layers: 4\n",
      "lr_mlp: 0\n",
      "INFO:gan_control.inference.controller: Loading Controller: ../resources/gan_models/controller_age015id025exp02hai04ori02gam15\\expression_q_loss_20201013-151038, ckpt iter 800000\n"
     ]
    }
   ],
   "source": [
    "%cd /gan-control/src\n",
    "from gan_control.inference.controller import Controller\n",
    "controller_path = '../resources/gan_models/controller_age015id025exp02hai04ori02gam15'\n",
    "controller = Controller(controller_path)"
   ]
  },
  {
   "cell_type": "code",
   "execution_count": 31,
   "metadata": {},
   "outputs": [],
   "source": [
    "batch_size = 16\n",
    "truncation = 0.7\n",
    "resize = 480\n",
    "initial_image_tensors, initial_latent_z, initial_latent_w = controller.gen_batch(batch_size=batch_size, truncation=truncation)\n",
    "og_img = controller.make_resized_grid_image(initial_image_tensors, resize=resize, nrow=8)\n",
    "og_img.show()"
   ]
  },
  {
   "cell_type": "code",
   "execution_count": 32,
   "metadata": {},
   "outputs": [],
   "source": [
    "import tkinter as tk\n",
    "import torchvision\n",
    "\n",
    "# --- main ---\n",
    "\n",
    "master = tk.Tk()\n",
    "master.title('Face Generation')\n",
    "master.geometry(\"800x500\")\n",
    "def controlPose(input1, input2, input3):\n",
    "    pose_control = torch.tensor([[input1, input2, input3]])\n",
    "    image_tensors, _, modified_latent_w = controller.gen_batch_by_controls(latent=initial_latent_w, input_is_latent=True, orientation=pose_control)\n",
    "    img = controller.make_resized_grid_image(image_tensors, resize=resize, nrow=8)\n",
    "    img.show()\n",
    "def controlAge(input1):\n",
    "    age_control = torch.tensor([[input1]])\n",
    "    image_tensors, _, modified_latent_w = controller.gen_batch_by_controls(latent=initial_latent_w, input_is_latent=True, age=age_control)\n",
    "    img = controller.make_resized_grid_image(image_tensors, resize=resize, nrow=8)\n",
    "    img.show()\n",
    "\n",
    "def controlHair(input1, input2, input3):\n",
    "    hair_color = torch.tensor([[input1, input2, input3]])\n",
    "    image_tensors, _, modified_latent_w = controller.gen_batch_by_controls(latent=initial_latent_w, input_is_latent=True, hair=hair_color)\n",
    "    img = controller.make_resized_grid_image(image_tensors, resize=resize, nrow=8)\n",
    "    img.show()\n",
    "\n",
    "def feature_command():\n",
    "    controlHair(float(h1.get()), float(h2.get()), float(h3.get()))\n",
    "    controlPose(float(p1.get()), float(p2.get()), float(p3.get()))\n",
    "    controlAge(float(a1.get()))\n",
    "\n",
    "tk.Label(master,text=\"Choose your feature:\").grid(row=0)\n",
    "tk.Label(master,text=\"1) Hair :\").grid(row=3)\n",
    "tk.Label(master,text=\"2) Pose :\").grid(row=6)\n",
    "tk.Label(master,text=\"3) Age :\").grid(row=9)\n",
    "\n",
    "h1 = tk.Entry(master, width=5)\n",
    "h2 = tk.Entry(master, width=5)\n",
    "h3 = tk.Entry(master, width=5)\n",
    "p1 = tk.Entry(master, width=5)\n",
    "p2 = tk.Entry(master, width=5)\n",
    "p3 = tk.Entry(master, width=5)\n",
    "a1 = tk.Entry(master, width=5)\n",
    "\n",
    "h1.insert(0, \"0\")\n",
    "h2.insert(0, \"0\")\n",
    "h3.insert(0, \"0\")\n",
    "p1.insert(0, \"0\")\n",
    "p2.insert(0, \"0\")\n",
    "p3.insert(0, \"0\")\n",
    "a1.insert(0, \"0\")\n",
    "\n",
    "tk.Label(master,text=\"R (0-1)\").grid(row=2,column=1)\n",
    "tk.Label(master,text=\"G (0-1)\").grid(row=2,column=2)\n",
    "tk.Label(master,text=\"B (0-1)\").grid(row=2,column=3)\n",
    "h1.grid(row=3, column=1)\n",
    "h2.grid(row=3, column=2)\n",
    "h3.grid(row=3, column=3)\n",
    "\n",
    "tk.Label(master,text=\"Yaw (-360, 360)\").grid(row=5,column=1)\n",
    "tk.Label(master,text=\"Pitch (-360, 360)\").grid(row=5,column=2)\n",
    "tk.Label(master,text=\"Roll (-360, 360)\").grid(row=5,column=3)\n",
    "p1.grid(row=6, column=1)\n",
    "p2.grid(row=6, column=2)\n",
    "p3.grid(row=6, column=3)\n",
    "\n",
    "tk.Label(master,text=\"Age (Positive Integer)\").grid(row=8,column=1)\n",
    "a1.grid(row=9, column=1)\n",
    "button1 = tk.Button(master, text='Confirm', command=feature_command).grid(column=2,pady=30)\n",
    "\n",
    "master.mainloop()\n"
   ]
  }
 ],
 "metadata": {
  "kernelspec": {
   "display_name": "dog-breeds-classification",
   "language": "python",
   "name": "python3"
  },
  "language_info": {
   "codemirror_mode": {
    "name": "ipython",
    "version": 3
   },
   "file_extension": ".py",
   "mimetype": "text/x-python",
   "name": "python",
   "nbconvert_exporter": "python",
   "pygments_lexer": "ipython3",
   "version": "3.10.4"
  },
  "orig_nbformat": 4,
  "vscode": {
   "interpreter": {
    "hash": "292d245a7d91efe1d3165657b4916eb1141d1adb8adf9d8278cf9cb976cc65dd"
   }
  }
 },
 "nbformat": 4,
 "nbformat_minor": 2
}
